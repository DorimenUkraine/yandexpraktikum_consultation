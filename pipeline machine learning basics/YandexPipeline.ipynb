{
 "cells": [
  {
   "cell_type": "markdown",
   "metadata": {},
   "source": [
    "## Создадим конфиги"
   ]
  },
  {
   "cell_type": "code",
   "execution_count": 1,
   "metadata": {},
   "outputs": [
    {
     "name": "stdout",
     "output_type": "stream",
     "text": [
      "Save config: experiments/experiment_name_config.yml\n",
      "Save config: experiments/base_config.yml\n",
      "Save config: experiments/split_train_test_config.yml\n",
      "Save config: experiments/featurize_config.yml\n",
      "Save config: experiments/train_config.yml\n",
      "Save config: experiments/evaluate_config.yml\n"
     ]
    }
   ],
   "source": [
    "!python src/pipelines/prepare_configs.py --config=config/pipeline_config.yml"
   ]
  },
  {
   "cell_type": "markdown",
   "metadata": {},
   "source": [
    "## Подготовим признаки"
   ]
  },
  {
   "cell_type": "code",
   "execution_count": 2,
   "metadata": {},
   "outputs": [
    {
     "name": "stdout",
     "output_type": "stream",
     "text": [
      "/home/renat/DeepHealths/pipeline/src/features/features.py:13: SettingWithCopyWarning: \n",
      "A value is trying to be set on a copy of a slice from a DataFrame.\n",
      "Try using .loc[row_indexer,col_indexer] = value instead\n",
      "\n",
      "See the caveats in the documentation: https://pandas.pydata.org/pandas-docs/stable/user_guide/indexing.html#returning-a-view-versus-a-copy\n",
      "  data['Tenure'] = data['Tenure'].fillna(value=data['Tenure'].median())\n"
     ]
    }
   ],
   "source": [
    "!python src/pipelines/featurize.py --config=experiments/featurize_config.yml"
   ]
  },
  {
   "cell_type": "markdown",
   "metadata": {},
   "source": [
    "## Разбиение на выборки"
   ]
  },
  {
   "cell_type": "code",
   "execution_count": 3,
   "metadata": {},
   "outputs": [],
   "source": [
    "!python src/pipelines/split_train_test.py --config=experiments/split_train_test_config.yml --base_config=config/pipeline_config.yml"
   ]
  },
  {
   "cell_type": "markdown",
   "metadata": {},
   "source": [
    "## Обучение модели"
   ]
  },
  {
   "cell_type": "code",
   "execution_count": 4,
   "metadata": {},
   "outputs": [
    {
     "name": "stdout",
     "output_type": "stream",
     "text": [
      "COMET INFO: Experiment is live on comet.ml https://www.comet.ml/alimbekovkz/yandex-project/39edbd51808f4ca8af426f3f14dd9b93\n",
      "\n",
      "Fitting 5 folds for each of 10 candidates, totalling 50 fits\n",
      "[Parallel(n_jobs=1)]: Using backend SequentialBackend with 1 concurrent workers.\n",
      "[Parallel(n_jobs=1)]: Done  50 out of  50 | elapsed:   21.6s finished\n",
      "/home/renat/anaconda3/lib/python3.7/site-packages/sklearn/model_selection/_search.py:823: FutureWarning: The parameter 'iid' is deprecated in 0.22 and will be removed in 0.24.\n",
      "  \"removed in 0.24.\", FutureWarning\n",
      "0.9430013132629499\n",
      "COMET INFO: ----------------------------\n",
      "COMET INFO: Comet.ml Experiment Summary:\n",
      "COMET INFO:   Data:\n",
      "COMET INFO:     url: https://www.comet.ml/alimbekovkz/yandex-project/39edbd51808f4ca8af426f3f14dd9b93\n",
      "COMET INFO:   Metrics [count] (min, max):\n",
      "COMET INFO:     mean_fit_time [10]       : (0.07585363388061524, 0.724124526977539)\n",
      "COMET INFO:     mean_score_time [10]     : (0.004496145248413086, 0.03266267776489258)\n",
      "COMET INFO:     mean_test_score [10]     : (0.9319743405442452, 0.9430013132629499)\n",
      "COMET INFO:     param_n_estimators [10]  : (10.0, 100.0)\n",
      "COMET INFO:     rank_test_score [10]     : (1.0, 10.0)\n",
      "COMET INFO:     split0_test_score [10]   : (0.9275247524752476, 0.9402515723270439)\n",
      "COMET INFO:     split1_test_score [10]   : (0.9384676458912267, 0.9460516028146989)\n",
      "COMET INFO:     split2_test_score [10]   : (0.9366786140979689, 0.950137416568512)\n",
      "COMET INFO:     split3_test_score [10]   : (0.9285714285714286, 0.9446640316205535)\n",
      "COMET INFO:     split4_test_score [10]   : (0.9286280729579699, 0.9451676528599605)\n",
      "COMET INFO:     std_fit_time [10]        : (0.0018089152070695567, 0.009664862725600807)\n",
      "COMET INFO:     std_score_time [10]      : (4.4705460822565504e-05, 0.0007660525911699453)\n",
      "COMET INFO:     std_test_score [10]      : (0.0025402340157541377, 0.005041041252875742)\n",
      "COMET INFO:     sys.cpu.percent.01       : (1.2, 1.2)\n",
      "COMET INFO:     sys.cpu.percent.02       : (12.2, 12.2)\n",
      "COMET INFO:     sys.cpu.percent.03       : (1.2, 1.2)\n",
      "COMET INFO:     sys.cpu.percent.04       : (1.2, 1.2)\n",
      "COMET INFO:     sys.cpu.percent.05       : (0.0, 0.0)\n",
      "COMET INFO:     sys.cpu.percent.06       : (0.0, 0.0)\n",
      "COMET INFO:     sys.cpu.percent.07       : (0.2, 0.2)\n",
      "COMET INFO:     sys.cpu.percent.08       : (2.2, 2.2)\n",
      "COMET INFO:     sys.cpu.percent.09       : (0.2, 0.2)\n",
      "COMET INFO:     sys.cpu.percent.10       : (0.4, 0.4)\n",
      "COMET INFO:     sys.cpu.percent.11       : (0.2, 0.2)\n",
      "COMET INFO:     sys.cpu.percent.12       : (0.2, 0.2)\n",
      "COMET INFO:     sys.cpu.percent.13       : (0.4, 0.4)\n",
      "COMET INFO:     sys.cpu.percent.14       : (0.4, 0.4)\n",
      "COMET INFO:     sys.cpu.percent.15       : (0.0, 0.0)\n",
      "COMET INFO:     sys.cpu.percent.16       : (0.4, 0.4)\n",
      "COMET INFO:     sys.cpu.percent.avg      : (1.2749999999999992, 1.2749999999999992)\n",
      "COMET INFO:     sys.gpu.0.free_memory    : (11154489344.0, 11154489344.0)\n",
      "COMET INFO:     sys.gpu.0.gpu_utilization: (0.0, 0.0)\n",
      "COMET INFO:     sys.gpu.0.total_memory   : (11554717696.0, 11554717696.0)\n",
      "COMET INFO:     sys.gpu.0.used_memory    : (400228352.0, 400228352.0)\n",
      "COMET INFO:     sys.load.avg             : (0.62, 0.62)\n",
      "COMET INFO:     sys.ram.total            : (33330782208.0, 33330782208.0)\n",
      "COMET INFO:     sys.ram.used             : (2951966720.0, 2951966720.0)\n",
      "COMET INFO: ----------------------------\n",
      "COMET INFO: Uploading stats to Comet before program termination (may take several seconds)\n",
      "COMET INFO: Still uploading\n"
     ]
    }
   ],
   "source": [
    "!python src/pipelines/train.py --config=experiments/train_config.yml --base_config=config/pipeline_config.yml"
   ]
  },
  {
   "cell_type": "markdown",
   "metadata": {},
   "source": [
    "## Измерение качества модели"
   ]
  },
  {
   "cell_type": "code",
   "execution_count": null,
   "metadata": {},
   "outputs": [
    {
     "name": "stdout",
     "output_type": "stream",
     "text": [
      "COMET INFO: Experiment is live on comet.ml https://www.comet.ml/alimbekovkz/yandex-project/c82fb2fe78a944b2bde92cb0f0775258\n",
      "\n",
      "F1 score is  1.000\n",
      "Precision score is  1.000\n",
      "Recall score is  1.000\n",
      "Accuracy is  1.000\n",
      "COMET INFO: Uploading stats to Comet before program termination (may take several seconds)\n",
      "COMET INFO: Still uploading\n"
     ]
    }
   ],
   "source": [
    "!python src/pipelines/evaluate.py \\\n",
    "    --config=experiments/evaluate_config.yml \\\n",
    "    --base_config=config/pipeline_config.yml"
   ]
  },
  {
   "cell_type": "code",
   "execution_count": null,
   "metadata": {},
   "outputs": [],
   "source": []
  }
 ],
 "metadata": {
  "kernelspec": {
   "display_name": "Python 3",
   "language": "python",
   "name": "python3"
  },
  "language_info": {
   "codemirror_mode": {
    "name": "ipython",
    "version": 3
   },
   "file_extension": ".py",
   "mimetype": "text/x-python",
   "name": "python",
   "nbconvert_exporter": "python",
   "pygments_lexer": "ipython3",
   "version": "3.7.3"
  }
 },
 "nbformat": 4,
 "nbformat_minor": 2
}
