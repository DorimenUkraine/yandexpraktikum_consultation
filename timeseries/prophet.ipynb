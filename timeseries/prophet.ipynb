{
    "cells": [
        {
            "cell_type": "markdown",
            "metadata": {},
            "source": [
                "## Load data:\n",
                "\n"
            ]
        },
        {
            "cell_type": "code",
            "execution_count": null,
            "metadata": {},
            "outputs": [],
            "source": [
                "df <- read.csv2(\"data/data.csv\", sep = \";\")\n",
                "df\n"
            ]
        },
        {
            "cell_type": "markdown",
            "metadata": {},
            "source": [
                "## Preprocess data:\n",
                "\n"
            ]
        },
        {
            "cell_type": "code",
            "execution_count": null,
            "metadata": {},
            "outputs": [],
            "source": [
                "library(\"tidyverse\")\n",
                "library(\"lubridate\")\n",
                "library(\"prophet\")\n",
                "\n",
                "prophet_df <- select(df, YEAR, MONTH, DAY, CNT)\n",
                "prophet_df <- prophet_df %>% mutate(ds = make_date(YEAR, MONTH, DAY))\n",
                "prophet_df <- select(prophet_df, ds, CNT)\n",
                "colnames(prophet_df) <- c(\"ds\", \"y\")\n",
                "prophet_df$y <- log(prophet_df$y)\n"
            ]
        },
        {
            "cell_type": "markdown",
            "metadata": {},
            "source": [
                "## Split into train and test sets:\n",
                "\n"
            ]
        },
        {
            "cell_type": "code",
            "execution_count": null,
            "metadata": {},
            "outputs": [],
            "source": [
                "train <- head(prophet_df, 586)\n",
                "sid <- as.numeric(rownames(train))\n",
                "test <- prophet_df[-sid,]\n"
            ]
        },
        {
            "cell_type": "markdown",
            "metadata": {},
            "source": [
                "## Train Prophet model:\n",
                "\n"
            ]
        },
        {
            "cell_type": "code",
            "execution_count": null,
            "metadata": {},
            "outputs": [],
            "source": [
                "m <- prophet(train, daily.seasonality = FALSE, yearly.seasonality = TRUE)\n",
                "future <- make_future_dataframe(m, periods = 146, include_history = FALSE)\n",
                "forecast <- predict(m, future)\n",
                "forecast[c(\"ds\", \"yhat\")]\n"
            ]
        },
        {
            "cell_type": "markdown",
            "metadata": {},
            "source": [
                "## Calculate awfully large MAPE:\n",
                "\n"
            ]
        },
        {
            "cell_type": "code",
            "execution_count": null,
            "metadata": {},
            "outputs": [],
            "source": [
                "library(\"MLmetrics\")\n",
                "MAPE(y_pred = exp(forecast$yhat), y_true = exp(test$y))\n"
            ]
        },
        {
            "cell_type": "markdown",
            "metadata": {},
            "source": [
                "## Plot forecast:\n",
                "\n"
            ]
        },
        {
            "cell_type": "code",
            "execution_count": null,
            "metadata": {},
            "outputs": [],
            "source": [
                "plot(m, forecast)\n",
                "prophet_plot_components(m, forecast)\n"
            ]
        }
    ],
    "metadata": {
        "anaconda-cloud": "",
        "kernelspec": {
            "display_name": "R",
            "langauge": "R",
            "name": "ir"
        },
        "language_info": {
            "codemirror_mode": "r",
            "file_extension": ".r",
            "mimetype": "text/x-r-source",
            "name": "R",
            "pygments_lexer": "r",
            "version": "3.4.1"
        }
    },
    "nbformat": 4,
    "nbformat_minor": 1
}
